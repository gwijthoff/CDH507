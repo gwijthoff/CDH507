{
  "cells": [
    {
      "cell_type": "markdown",
      "metadata": {
        "id": "bUUYN17J50Zr"
      },
      "source": [
        "# The Python Notebook\n",
        "\n",
        "This is a Python notebook. It is an example of \"[literate programming](https://www-cs-faculty.stanford.edu/~knuth/lp.html),\" a format introduced by computer scientist Donald Knuth in the 1980s. The idea behind literate programming is to produce documents that allow a user to:\n",
        "\n",
        "1. read and edit lines of code\n",
        "2. run that code and see the results, and\n",
        "3. read and write prose text explaining what is happening in that code.\n",
        "\n",
        "Python notebooks (also called Colab notebooks or Jupyter notebooks depending on the platform you use to run them) have become increasingly important in digital humanities and data science as a means to learn programming skills and to circulate results and analysis.\n",
        "\n",
        "This notebook is divided into what are called \"cells.\" You're currently reading a \"text cell.\" Try double clicking it: you will now see text that can be edited. Type `ESC` or `Ctrl-ENTER` to exit the editing view.\n",
        "\n",
        "You can also navigate between cells by using your keyboard's up and down arrows."
      ]
    },
    {
      "cell_type": "markdown",
      "metadata": {},
      "source": [
        "# Understanding Markdown\n",
        "\n",
        "Text cells are written in Markdown, a lightweight markup format for text that is easily readable both by humans and machines. For example:\n",
        "\n",
        "| SYNTAX | OUTPUT |\n",
        "|--------|--------|\n",
        "| `*italics*` | *italics* |\n",
        "| `**bold**` | **bold** |\n",
        "| `[Princeton](www.princeton.edu)` | [Princeton](www.princeton.edu) |\n",
        "\n",
        "If you double click the text cell you're now reading, you'll see the underlying Markdown formatting. When you exit the cell, it will return to its fully-rendered format.\n",
        "\n",
        "For a basic overview of Markdown syntax, see [this cheat sheet](https://www.markdownguide.org/cheat-sheet/). An extended guide and history of the markup language is also available on that site. To test out Markdown in a live editor in your web browser, [try Dillinger](https://dillinger.io/).\n"
      ]
    },
    {
      "cell_type": "markdown",
      "metadata": {
        "id": "FkPhJ8ZT50Zt"
      },
      "source": [
        "## Executing Code Cells\n",
        "\n",
        "While text cells contain Markdown-formatted text, code cells contain lines of code written in Python that can be run right in the notebook. The cell below this one is a code cell.\n",
        "\n",
        "You can execute code cells run by hovering over the top left of a cell and clicking the play button. The first time you run a cell in a Jupyter notebook in VS Code, you'll be asked to select a kernel environment. Select \"Python environments...\", and from there select which Python version you'd like to use. From there, pick whichever one is listed as \"Global Env\" on the right. For me, this is Python 3.11.7.\n",
        "\n",
        "You can also type `Ctrl-Enter` (which will run the cell and keep the same cell selected), or `Shift-Enter` (which will run the cell and then select the next cell).\n",
        "\n",
        "Try running the following cell, selecting your Python environment, and seeing what it prints out:"
      ]
    },
    {
      "cell_type": "code",
      "execution_count": 3,
      "metadata": {
        "colab": {
          "base_uri": "https://localhost:8080/"
        },
        "id": "tDaM-2kS50Zt",
        "outputId": "81e598d3-265a-4a11-e5f3-b537a25405c1"
      },
      "outputs": [
        {
          "name": "stdout",
          "output_type": "stream",
          "text": [
            "Hello world!\n"
          ]
        }
      ],
      "source": [
        "print(\"Hello world!\")"
      ]
    },
    {
      "cell_type": "markdown",
      "metadata": {},
      "source": [
        "Any text in a code cell preceded by a `#` character will be interpreted as a comment — or explanatory text — rather than run as code."
      ]
    },
    {
      "cell_type": "code",
      "execution_count": 4,
      "metadata": {
        "id": "eBa5zSP750Zs"
      },
      "outputs": [],
      "source": [
        "# this is a comment in a code cell"
      ]
    },
    {
      "cell_type": "markdown",
      "metadata": {
        "id": "L0tHb5_F6crk"
      },
      "source": [
        "You can also run equations:"
      ]
    },
    {
      "cell_type": "code",
      "execution_count": 5,
      "metadata": {
        "colab": {
          "base_uri": "https://localhost:8080/"
        },
        "id": "kOzVTUAb6Mvk",
        "outputId": "3208904b-3002-40df-dd3d-ae53d829c15c"
      },
      "outputs": [
        {
          "data": {
            "text/plain": [
              "7"
            ]
          },
          "execution_count": 5,
          "metadata": {},
          "output_type": "execute_result"
        }
      ],
      "source": [
        "3 + 4"
      ]
    },
    {
      "cell_type": "markdown",
      "metadata": {
        "id": "w4dA2ZCu6oxh"
      },
      "source": [
        "And define variables:"
      ]
    },
    {
      "cell_type": "code",
      "execution_count": 6,
      "metadata": {
        "id": "YFC6uIQp6VJ3"
      },
      "outputs": [],
      "source": [
        "my_sentence = 'The meaning of a word is its use in the language.'"
      ]
    },
    {
      "cell_type": "code",
      "execution_count": 7,
      "metadata": {
        "colab": {
          "base_uri": "https://localhost:8080/"
        },
        "id": "5OiVCyGc6YTI",
        "outputId": "f9f06015-5d22-443b-a088-ea78afe9bc29"
      },
      "outputs": [
        {
          "name": "stdout",
          "output_type": "stream",
          "text": [
            "The meaning of a word is its use in the language.\n"
          ]
        }
      ],
      "source": [
        "print(my_sentence)"
      ]
    },
    {
      "cell_type": "markdown",
      "metadata": {},
      "source": [
        "The power of these notebooks is that you can edit the code, experimenting with different inputs or variables, and see how the output changes as a result. Try single-clicking on the code cell above to edit it."
      ]
    },
    {
      "cell_type": "markdown",
      "metadata": {
        "id": "mYbxfCyN1bZ6"
      },
      "source": [
        "## Loading Data"
      ]
    },
    {
      "cell_type": "markdown",
      "metadata": {
        "id": "KiF2b9p-RmkZ"
      },
      "source": [
        "We can also load remote data, like the Project Gutenberg text of Willa Cather's *O Pioneers!*. You'll notice the code below contains different colors: this is called syntax highlighting, which allows the user to more easily read and distinguish different elements in the code."
      ]
    },
    {
      "cell_type": "code",
      "execution_count": 8,
      "metadata": {
        "colab": {
          "base_uri": "https://localhost:8080/"
        },
        "id": "Nekm5pZN9XZM",
        "outputId": "9cb259ab-9578-4afe-9bb6-1891ccac7177"
      },
      "outputs": [
        {
          "name": "stdout",
          "output_type": "stream",
          "text": [
            "\n",
            "\n",
            "\n",
            "PART I.\n",
            "The Wild Land\n",
            "\n",
            "\n",
            "\n",
            "\n",
            "I\n",
            "\n",
            "\n",
            "One January day, thirty years ago, the little town of Hanover, anchored\n",
            "on a windy Nebraska tableland, was trying not to be blown away. A mist\n",
            "of fine snowflakes was curling and eddying about the cluster of low\n",
            "drab buildings huddled on the gray prairie, under a gray sky. The\n",
            "dwelling-houses were set about haphazard on the tough prairie sod; some\n",
            "of them looked as if they had been moved in overnight, and others as if\n",
            "they were straying off by themselves, headed straight for the open\n",
            "plain. None of them had any appearance of permanence, and the howling\n",
            "wind blew under them as well as over them. The main street was a deeply\n",
            "rutted road, now frozen hard, which ran from the squat red railway\n",
            "station and the grain “elevator” at the north end of the town to the\n",
            "lumber yard and the horse pond at the south end. On either side of this\n",
            "road straggled two uneven rows of wooden buildings; the general\n",
            "merchandise stores, the two banks, the d\n"
          ]
        }
      ],
      "source": [
        "import requests\n",
        "\n",
        "target_url = \"https://www.gutenberg.org/files/24/24-0.txt\"\n",
        "\n",
        "# load the document's URL\n",
        "response = requests.get(target_url)\n",
        "# detect what appears to be the file encoding\n",
        "response.encoding = response.apparent_encoding\n",
        "\n",
        "# print the text of O Pioneers!\n",
        "# starting with the 2,000th character of the file\n",
        "passage = response.text[2000:3000]\n",
        "\n",
        "print(passage)"
      ]
    },
    {
      "cell_type": "code",
      "execution_count": null,
      "metadata": {
        "id": "XCKmYG1_aeBu"
      },
      "outputs": [],
      "source": []
    }
  ],
  "metadata": {
    "anaconda-cloud": {},
    "colab": {
      "provenance": []
    },
    "kernelspec": {
      "display_name": "Python [default]",
      "language": "python",
      "name": "python3"
    },
    "language_info": {
      "codemirror_mode": {
        "name": "ipython",
        "version": 3
      },
      "file_extension": ".py",
      "mimetype": "text/x-python",
      "name": "python",
      "nbconvert_exporter": "python",
      "pygments_lexer": "ipython3",
      "version": "3.11.7"
    }
  },
  "nbformat": 4,
  "nbformat_minor": 0
}
